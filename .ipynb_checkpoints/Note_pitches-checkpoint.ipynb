{
 "cells": [
  {
   "cell_type": "code",
   "execution_count": 1,
   "metadata": {
    "colab": {},
    "colab_type": "code",
    "id": "qhXdKqfi80Dt"
   },
   "outputs": [],
   "source": [
    "from music21 import *\n",
    "from matplotlib import pyplot as plt\n",
    "from sklearn import svm, naive_bayes, neighbors\n",
    "from sklearn.feature_extraction.text import CountVectorizer\n",
    "import numpy as np\n",
    "import data_loader as loader"
   ]
  },
  {
   "cell_type": "markdown",
   "metadata": {},
   "source": [
    "Loading unprocessed data"
   ]
  },
  {
   "cell_type": "code",
   "execution_count": 2,
   "metadata": {
    "scrolled": true
   },
   "outputs": [],
   "source": [
    "%%capture\n",
    "composerNames = [\"debussy\",\"tchaikovsky\",\"mozart\",\"victoria\",\"beethoven\"]\n",
    "#count = min(loader.get_data_counts(composerNames))\n",
    "x_train, x_test,y_train, y_test = loader.load(\"chords_t\",composerNames)\n"
   ]
  },
  {
   "cell_type": "code",
   "execution_count": 3,
   "metadata": {},
   "outputs": [
    {
     "name": "stdout",
     "output_type": "stream",
     "text": [
      "{'debussy': 119, 'tchaikovsky': 165, 'mozart': 423, 'victoria': 188, 'beethoven': 380} {'debussy': 40, 'tchaikovsky': 54, 'mozart': 124, 'victoria': 61, 'beethoven': 61}\n"
     ]
    }
   ],
   "source": [
    "print(loader.get_data_counts(y_train,composerNames),loader.get_data_counts(y_test,composerNames))"
   ]
  },
  {
   "cell_type": "code",
   "execution_count": 4,
   "metadata": {},
   "outputs": [],
   "source": [
    "pitches_train = [str([chord[0] for chord in example])for example in x_train]\n",
    "pitches_test = [str([chord[0] for chord in example])for example in x_test]"
   ]
  },
  {
   "cell_type": "code",
   "execution_count": 5,
   "metadata": {
    "colab": {
     "base_uri": "https://localhost:8080/",
     "height": 87
    },
    "colab_type": "code",
    "id": "RPWbGTiA2g3_",
    "outputId": "2fbf29aa-2f20-4fed-98a4-91796b0a466f"
   },
   "outputs": [],
   "source": [
    "def fit(x_train,y_train, x_test, y_test,classifiers):\n",
    "    for clf in classifiers:\n",
    "        clf.fit(x_train,y_train)\n",
    "        print(clf)\n",
    "        print(f\"acc: {clf.score(x_test,y_test)}\",\"\\n\")"
   ]
  },
  {
   "cell_type": "code",
   "execution_count": 10,
   "metadata": {},
   "outputs": [],
   "source": [
    "def find_k(x_train,y_train, x_test, y_test):\n",
    "    best_acc = 0\n",
    "    k = 0\n",
    "    for i in range(1,60):\n",
    "        k_nn = neighbors.KNeighborsClassifier(n_neighbors=i)\n",
    "        k_nn.fit(x_train, y_train)\n",
    "        acc = k_nn.score(x_test,y_test)\n",
    "        if(acc>best_acc):\n",
    "            best_acc = acc\n",
    "            k = i\n",
    "    print(f\"best k = {k}, best acc = {best_acc}\")\n",
    "    return k"
   ]
  },
  {
   "cell_type": "code",
   "execution_count": null,
   "metadata": {},
   "outputs": [],
   "source": [
    "def fit_ngrams(pitches_train,y_train,pitches_test,y_test,classifiers,n):\n",
    "    print(\"n =\",n)\n",
    "    \n",
    "    ngram_vectorizer = CountVectorizer(token_pattern=\"\\d+\", ngram_range=(1, n))\n",
    "    ngrams_train = ngram_vectorizer.fit_transform(pitches_train)\n",
    "    ngrams_test = ngram_vectorizer.fit_transform(pitches_test)\n",
    "\n",
    "    print(\"training shape =\", ngrams_train.shape)\n",
    "    \n",
    "    k = find_k(ngrams_train,y_train,ngrams_test,y_test)\n",
    "    fit(ngrams_train,y_train,ngrams_test,y_test,\n",
    "         [neighbors.KNeighborsClassifier(n_neighbors=k), naive_bayes.MultinomialNB()])\n",
    "    "
   ]
  },
  {
   "cell_type": "code",
   "execution_count": 11,
   "metadata": {},
   "outputs": [
    {
     "name": "stdout",
     "output_type": "stream",
     "text": [
      "n= 1\n",
      "training shape (1275, 12)\n",
      "best k = 6, best acc = 0.65\n",
      "KNeighborsClassifier(algorithm='auto', leaf_size=30, metric='minkowski',\n",
      "           metric_params=None, n_jobs=1, n_neighbors=6, p=2,\n",
      "           weights='uniform')\n",
      "acc: 0.65 \n",
      "\n",
      "MultinomialNB(alpha=1.0, class_prior=None, fit_prior=True)\n",
      "acc: 0.6 \n",
      "\n",
      "n= 2\n",
      "training shape (1275, 156)\n",
      "best k = 2, best acc = 0.7176470588235294\n",
      "KNeighborsClassifier(algorithm='auto', leaf_size=30, metric='minkowski',\n",
      "           metric_params=None, n_jobs=1, n_neighbors=2, p=2,\n",
      "           weights='uniform')\n",
      "acc: 0.7176470588235294 \n",
      "\n",
      "MultinomialNB(alpha=1.0, class_prior=None, fit_prior=True)\n",
      "acc: 0.6588235294117647 \n",
      "\n",
      "n= 3\n",
      "training shape (1275, 1884)\n",
      "best k = 2, best acc = 0.7176470588235294\n",
      "KNeighborsClassifier(algorithm='auto', leaf_size=30, metric='minkowski',\n",
      "           metric_params=None, n_jobs=1, n_neighbors=2, p=2,\n",
      "           weights='uniform')\n",
      "acc: 0.7176470588235294 \n",
      "\n",
      "MultinomialNB(alpha=1.0, class_prior=None, fit_prior=True)\n",
      "acc: 0.7147058823529412 \n",
      "\n"
     ]
    }
   ],
   "source": [
    "for n in range(1,4):\n",
    "    classifiers = [neighbors.KNeighborsClassifier(n_neighbors=k), \n",
    "                   naive_bayes.MultinomialNB()]\n",
    "    \n",
    "    ngram_vectorizer = CountVectorizer(token_pattern=\"\\d+\", ngram_range=(1, n))\n",
    "    ngrams_train = ngram_vectorizer.fit_transform(pitches_train)\n",
    "    ngrams_test = ngram_vectorizer.fit_transform(pitches_test)\n",
    "\n",
    "    print(\"training shape =\", ngrams_train.shape)\n",
    "    \n",
    "    k = find_k(ngrams_train,y_train,ngrams_test,y_test)\n",
    "    fit(ngrams_train,y_train,ngrams_test,y_test,\n",
    "         [neighbors.KNeighborsClassifier(n_neighbors=k), naive_bayes.MultinomialNB()])"
   ]
  },
  {
   "cell_type": "code",
   "execution_count": 26,
   "metadata": {},
   "outputs": [
    {
     "name": "stdout",
     "output_type": "stream",
     "text": [
      "(1275, 1884)\n",
      "best k = 6, best acc = 0.65\n",
      "KNeighborsClassifier(algorithm='auto', leaf_size=30, metric='minkowski',\n",
      "           metric_params=None, n_jobs=1, n_neighbors=6, p=2,\n",
      "           weights='uniform')\n",
      "acc: 0.6705882352941176 \n",
      "\n",
      "MultinomialNB(alpha=1.0, class_prior=None, fit_prior=True)\n",
      "acc: 0.7147058823529412 \n",
      "\n"
     ]
    }
   ],
   "source": [
    "bigram_vectorizer = CountVectorizer(token_pattern=\"\\d+\", ngram_range=(1,3))\n",
    "bigrams_train = bigram_vectorizer.fit_transform(pitches_train)\n",
    "bigrams_test = bigram_vectorizer.fit_transform(pitches_test)\n",
    "\n",
    "print(bigrams_train.shape)\n",
    "k = find_k(bigrams_train,y_train,bigrams_test,y_test)\n",
    "fit(bigrams_train,y_train,bigrams_test,y_test,\n",
    "     [neighbors.KNeighborsClassifier(n_neighbors=k), naive_bayes.MultinomialNB()])"
   ]
  },
  {
   "cell_type": "code",
   "execution_count": null,
   "metadata": {
    "colab": {
     "base_uri": "https://localhost:8080/",
     "height": 705
    },
    "colab_type": "code",
    "id": "kX9NVmN1KtcC",
    "outputId": "b4d52e82-a7be-4c22-98a4-75f258de4d22"
   },
   "outputs": [],
   "source": [
    "classes = list(set(y_test))\n",
    "test_data = list(zip(x_test,y_test))\n",
    "for label in classes:\n",
    "    label_data = [tupple[0] for tupple in test_data if tupple[1] == label][:10]\n",
    "    plt.plot(label_data)\n",
    "    plt.xlabel(\"Examples\")\n",
    "    plt.show()"
   ]
  }
 ],
 "metadata": {
  "colab": {
   "collapsed_sections": [],
   "include_colab_link": true,
   "name": "Note pitches",
   "provenance": [],
   "version": "0.3.2"
  },
  "kernelspec": {
   "display_name": "Python 3",
   "language": "python",
   "name": "python3"
  },
  "language_info": {
   "codemirror_mode": {
    "name": "ipython",
    "version": 3
   },
   "file_extension": ".py",
   "mimetype": "text/x-python",
   "name": "python",
   "nbconvert_exporter": "python",
   "pygments_lexer": "ipython3",
   "version": "3.6.5"
  }
 },
 "nbformat": 4,
 "nbformat_minor": 1
}
