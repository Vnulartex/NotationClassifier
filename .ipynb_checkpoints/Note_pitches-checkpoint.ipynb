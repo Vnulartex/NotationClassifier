{
 "cells": [
  {
   "cell_type": "code",
   "execution_count": 1,
   "metadata": {
    "colab": {},
    "colab_type": "code",
    "id": "qhXdKqfi80Dt"
   },
   "outputs": [],
   "source": [
    "from music21 import *\n",
    "from matplotlib import pyplot as plt\n",
    "from sklearn import svm, naive_bayes, neighbors\n",
    "from sklearn.feature_extraction.text import CountVectorizer\n",
    "import itertools\n",
    "import numpy as np\n",
    "import data_loader as loader"
   ]
  },
  {
   "cell_type": "markdown",
   "metadata": {},
   "source": [
    "Loading unprocessed data"
   ]
  },
  {
   "cell_type": "code",
   "execution_count": 2,
   "metadata": {
    "colab": {
     "base_uri": "https://localhost:8080/",
     "height": 87
    },
    "colab_type": "code",
    "id": "RPWbGTiA2g3_",
    "outputId": "2fbf29aa-2f20-4fed-98a4-91796b0a466f"
   },
   "outputs": [],
   "source": [
    "def fit(x_train,y_train, x_test, y_test,classifiers):\n",
    "    for clf in classifiers:\n",
    "        clf.fit(x_train,y_train)\n",
    "        print(clf)\n",
    "        print(f\"acc: {clf.score(x_test,y_test)}\",\"\\n\")"
   ]
  },
  {
   "cell_type": "code",
   "execution_count": 3,
   "metadata": {},
   "outputs": [],
   "source": [
    "def find_k(x_train,y_train, x_test, y_test):\n",
    "    best_acc = 0\n",
    "    k = 0\n",
    "    for i in range(1,30):\n",
    "        k_nn = neighbors.KNeighborsClassifier(n_neighbors=i)\n",
    "        k_nn.fit(x_train, y_train)\n",
    "        acc = k_nn.score(x_test,y_test)\n",
    "        if(acc>best_acc):\n",
    "            best_acc = acc\n",
    "            k = i\n",
    "    print(f\"best k = {k}, best acc = {best_acc}\")\n",
    "    return k"
   ]
  },
  {
   "cell_type": "code",
   "execution_count": 4,
   "metadata": {},
   "outputs": [],
   "source": [
    "def fit_ngrams(x_train,y_train,x_test,y_test,n):\n",
    "    print(\"n =\",n)\n",
    "    \n",
    "    ngram_vectorizer = CountVectorizer(token_pattern=\"\\d+\", ngram_range=(1, n))\n",
    "    ngrams_train = ngram_vectorizer.fit_transform(x_train)\n",
    "    ngrams_test = ngram_vectorizer.transform(x_test)\n",
    "\n",
    "    print(\"train shape =\", ngrams_train.shape)\n",
    "    print(\"test shape =\", ngrams_test.shape)\n",
    "    \n",
    "    k = find_k(ngrams_train,y_train,ngrams_test,y_test)\n",
    "    fit(ngrams_train,y_train,ngrams_test,y_test,\n",
    "         [neighbors.KNeighborsClassifier(n_neighbors=k), naive_bayes.MultinomialNB()])\n",
    "    "
   ]
  },
  {
   "cell_type": "code",
   "execution_count": 5,
   "metadata": {},
   "outputs": [],
   "source": [
    "def combine(x1,x2,x1_classes):\n",
    "    result =[]\n",
    "    for a,b in zip (x1,x2):\n",
    "        result.append(x1_classes * b + a)\n",
    "    return result"
   ]
  },
  {
   "cell_type": "code",
   "execution_count": 6,
   "metadata": {},
   "outputs": [],
   "source": [
    "def unique_dict(in_list):\n",
    "    dic = dict.fromkeys(in_list)\n",
    "    for i,k in enumerate(dic.keys()):\n",
    "        dic[k]=i\n",
    "    return dic"
   ]
  },
  {
   "cell_type": "code",
   "execution_count": 7,
   "metadata": {},
   "outputs": [],
   "source": [
    "def values_to_labels(in_list,dic):\n",
    "    out_list = [dic[x] for x in in_list]\n",
    "    return out_list        "
   ]
  },
  {
   "cell_type": "code",
   "execution_count": 8,
   "metadata": {},
   "outputs": [],
   "source": [
    "def stringify_items(in_list):\n",
    "    return [str(x) for x in in_list]"
   ]
  },
  {
   "cell_type": "code",
   "execution_count": null,
   "metadata": {},
   "outputs": [],
   "source": []
  },
  {
   "cell_type": "code",
   "execution_count": null,
   "metadata": {},
   "outputs": [],
   "source": [
    "# Define known chords\n",
    "tone, major, minor, suspended, augmented, diminished, major_sixth, minor_sixth, \n",
    "dominant_seventh, major_seventh, minor_seventh, half_diminished_seventh, \n",
    "diminished_seventh, major_ninth, dominant_ninth, dominant_minor_ninth, \n",
    "minor_ninth = [0], [0,4,7],[0,3,7],[0,5,7],[0,4,8],[0,3,6],[0,4,7,9],[0,3,7,9],\n",
    "[0,4,7,10],[0,4,7,11],[0,3,7,10],[0,3,6,10],[0,3,6,9],[0,2,4,7,11],\n",
    "[0,2,4,7,10],[0,1,4,7,10],[0,2,3,7,10]\n",
    "\n",
    "chord_types_list = [tone,major, minor, suspended, augmented, \n",
    "                    diminished, major_sixth, minor_sixth, \n",
    "                    dominant_seventh, major_seventh, \n",
    "                    minor_seventh, half_diminished_seventh, \n",
    "                    diminished_seventh, major_ninth, \n",
    "                    dominant_ninth, dominant_minor_ninth, minor_ninth]"
   ]
  },
  {
   "cell_type": "code",
   "execution_count": 24,
   "metadata": {
    "scrolled": true
   },
   "outputs": [],
   "source": [
    "%%capture\n",
    "composerNames = [\"debussy\",\"tchaikovsky\",\"mozart\",\"victoria\",\"beethoven\"]\n",
    "#count = min(loader.get_data_counts(composerNames))\n",
    "x_train_ch, x_test_ch,y_train, y_test = loader.load(\"chords_t\",composerNames)\n",
    "x_train_d, x_test_d,y_train, y_test = loader.load(\"durations\",composerNames)"
   ]
  },
  {
   "cell_type": "code",
   "execution_count": 23,
   "metadata": {
    "collapsed": true
   },
   "outputs": [
    {
     "data": {
      "text/plain": [
       "[[12],\n",
       " [12],\n",
       " [12],\n",
       " [12],\n",
       " [12],\n",
       " [12],\n",
       " [12],\n",
       " [12],\n",
       " [12],\n",
       " [12],\n",
       " [12],\n",
       " [12],\n",
       " [12],\n",
       " [12],\n",
       " [12, 0],\n",
       " [12],\n",
       " [12],\n",
       " [12],\n",
       " [12],\n",
       " [12],\n",
       " [12],\n",
       " [12],\n",
       " [12],\n",
       " [12],\n",
       " [12],\n",
       " [12],\n",
       " [12],\n",
       " [12],\n",
       " [12],\n",
       " [12],\n",
       " [12],\n",
       " [12],\n",
       " [12],\n",
       " [12, 0, 1],\n",
       " [12],\n",
       " [12],\n",
       " [12, 0, 2],\n",
       " [12],\n",
       " [12],\n",
       " [12],\n",
       " [12],\n",
       " [12],\n",
       " [12],\n",
       " [12, 0, 4],\n",
       " [12],\n",
       " [12],\n",
       " [12],\n",
       " [12],\n",
       " [12],\n",
       " [12],\n",
       " [12],\n",
       " [12],\n",
       " [12],\n",
       " [12],\n",
       " [12],\n",
       " [12, 0, 4],\n",
       " [12],\n",
       " [12],\n",
       " [12],\n",
       " [12],\n",
       " [12],\n",
       " [12],\n",
       " [12],\n",
       " [12],\n",
       " [12],\n",
       " [12],\n",
       " [12, 0, 5],\n",
       " [12, 0, 5],\n",
       " [12, 0, 5],\n",
       " [12],\n",
       " [12],\n",
       " [12, 0, 2, 5],\n",
       " [12],\n",
       " [12],\n",
       " [12],\n",
       " [12],\n",
       " [12],\n",
       " [12],\n",
       " [12],\n",
       " [12, 0],\n",
       " [12, 0],\n",
       " [12],\n",
       " [12],\n",
       " [12],\n",
       " [12, 0, 3],\n",
       " [12],\n",
       " [12],\n",
       " [12],\n",
       " [12],\n",
       " [12],\n",
       " [12, 0, 2, 5],\n",
       " [12],\n",
       " [12],\n",
       " [12],\n",
       " [12],\n",
       " [12, 0, 2],\n",
       " [12],\n",
       " [12],\n",
       " [12, 0],\n",
       " [12],\n",
       " [12],\n",
       " [12, 0, 5],\n",
       " [12, 0, 5],\n",
       " [12],\n",
       " [12],\n",
       " [12, 0, 5],\n",
       " [12, 0, 5],\n",
       " [12, 0, 5],\n",
       " [12],\n",
       " [12],\n",
       " [12, 0, 2],\n",
       " [12, 0, 3, 7],\n",
       " [12],\n",
       " [12],\n",
       " [12, 0, 2, 5],\n",
       " [12],\n",
       " [12],\n",
       " [12],\n",
       " [12],\n",
       " [12, 0, 5],\n",
       " [12, 0],\n",
       " [12],\n",
       " [12],\n",
       " [12],\n",
       " [12],\n",
       " [12],\n",
       " [12],\n",
       " [12],\n",
       " [12],\n",
       " [12],\n",
       " [12],\n",
       " [12],\n",
       " [12],\n",
       " [12],\n",
       " [12],\n",
       " [12],\n",
       " [12],\n",
       " [12],\n",
       " [12],\n",
       " [12],\n",
       " [12],\n",
       " [12],\n",
       " [12],\n",
       " [12],\n",
       " [12],\n",
       " [12],\n",
       " [12],\n",
       " [12],\n",
       " [12],\n",
       " [12],\n",
       " [12],\n",
       " [12],\n",
       " [12],\n",
       " [12, 0, 5],\n",
       " [12],\n",
       " [12],\n",
       " [12],\n",
       " [12],\n",
       " [12, 0],\n",
       " [12, 0, 5],\n",
       " [12],\n",
       " [12],\n",
       " [12],\n",
       " [12],\n",
       " [12],\n",
       " [12],\n",
       " [12],\n",
       " [12],\n",
       " [12],\n",
       " [12],\n",
       " [12],\n",
       " [12],\n",
       " [12],\n",
       " [12, 0],\n",
       " [12, 0, 4],\n",
       " [12],\n",
       " [12, 0, 5],\n",
       " [12],\n",
       " [12],\n",
       " [12],\n",
       " [12],\n",
       " [12],\n",
       " [12],\n",
       " [12],\n",
       " [12],\n",
       " [12],\n",
       " [12],\n",
       " [12],\n",
       " [12],\n",
       " [12],\n",
       " [12],\n",
       " [12],\n",
       " [12, 0, 5],\n",
       " [12],\n",
       " [12],\n",
       " [12],\n",
       " [12],\n",
       " [12],\n",
       " [12],\n",
       " [12, 0, 4],\n",
       " [12],\n",
       " [12],\n",
       " [12],\n",
       " [12],\n",
       " [12, 0, 2],\n",
       " [12],\n",
       " [12],\n",
       " [12],\n",
       " [12],\n",
       " [12, 0],\n",
       " [12],\n",
       " [12],\n",
       " [12],\n",
       " [12],\n",
       " [12],\n",
       " [12],\n",
       " [12],\n",
       " [12],\n",
       " [12],\n",
       " [12],\n",
       " [12],\n",
       " [12],\n",
       " [12],\n",
       " [12],\n",
       " [12],\n",
       " [12],\n",
       " [12],\n",
       " [12],\n",
       " [12],\n",
       " [12],\n",
       " [12],\n",
       " [12],\n",
       " [12],\n",
       " [12],\n",
       " [12],\n",
       " [12],\n",
       " [12, 0],\n",
       " [12, 0],\n",
       " [12],\n",
       " [12],\n",
       " [12],\n",
       " [12],\n",
       " [12],\n",
       " [12],\n",
       " [12],\n",
       " [12],\n",
       " [12],\n",
       " [12],\n",
       " [12],\n",
       " [12],\n",
       " [12],\n",
       " [12],\n",
       " [12]]"
      ]
     },
     "execution_count": 23,
     "metadata": {},
     "output_type": "execute_result"
    }
   ],
   "source": [
    "list(filter(lambda x: x[0] == 12,x_train_ch[1]))"
   ]
  },
  {
   "cell_type": "code",
   "execution_count": 25,
   "metadata": {},
   "outputs": [],
   "source": [
    "x_train_ch = [[chord[0] for chord in example ] for example in x_train_ch]\n",
    "x_test_ch = [[chord[0] for chord in example]for example in x_test_ch]"
   ]
  },
  {
   "cell_type": "code",
   "execution_count": 21,
   "metadata": {},
   "outputs": [
    {
     "data": {
      "text/plain": [
       "[12, 0, 5]"
      ]
     },
     "execution_count": 21,
     "metadata": {},
     "output_type": "execute_result"
    }
   ],
   "source": [
    "max(x_train_ch[0])"
   ]
  },
  {
   "cell_type": "code",
   "execution_count": 26,
   "metadata": {},
   "outputs": [],
   "source": [
    "pitches_seq = list(itertools.chain.from_iterable(x_train_ch+x_test_ch))\n",
    "pitches_dict = unique_dict(pitches_seq)\n",
    "\n",
    "x_train_ch = [values_to_labels(example,pitches_dict) for example in x_train_ch]\n",
    "x_test_ch = [values_to_labels(example,pitches_dict) for example in x_test_ch]\n",
    "\n",
    "durations_seq = list(itertools.chain.from_iterable(x_train_d+x_test_d))\n",
    "durations_dict = unique_dict(durations_seq)\n",
    "\n",
    "x_train_d = [values_to_labels(example,durations_dict) for example in x_train_d]\n",
    "x_test_d = [values_to_labels(example,durations_dict) for example in x_test_d]"
   ]
  },
  {
   "cell_type": "code",
   "execution_count": 27,
   "metadata": {},
   "outputs": [],
   "source": [
    "x_train = list(map(str, combine(x_train_ch,x_train_d,len(pitches_dict))))\n",
    "x_test = list(map(str, combine(x_test_ch,x_test_d,len(pitches_dict))))"
   ]
  },
  {
   "cell_type": "code",
   "execution_count": 28,
   "metadata": {},
   "outputs": [
    {
     "name": "stdout",
     "output_type": "stream",
     "text": [
      "{'debussy': 119, 'tchaikovsky': 165, 'mozart': 423, 'victoria': 188, 'beethoven': 380} {'debussy': 40, 'tchaikovsky': 54, 'mozart': 124, 'victoria': 61, 'beethoven': 61}\n"
     ]
    }
   ],
   "source": [
    "print(loader.get_data_counts(y_train,composerNames),loader.get_data_counts(y_test,composerNames))"
   ]
  },
  {
   "cell_type": "code",
   "execution_count": 29,
   "metadata": {},
   "outputs": [
    {
     "name": "stdout",
     "output_type": "stream",
     "text": [
      "n = 1\n",
      "train shape = (1275, 51)\n",
      "test shape = (340, 51)\n",
      "best k = 27, best acc = 0.6176470588235294\n",
      "KNeighborsClassifier(algorithm='auto', leaf_size=30, metric='minkowski',\n",
      "           metric_params=None, n_jobs=1, n_neighbors=27, p=2,\n",
      "           weights='uniform')\n",
      "acc: 0.6176470588235294 \n",
      "\n",
      "MultinomialNB(alpha=1.0, class_prior=None, fit_prior=True)\n",
      "acc: 0.5264705882352941 \n",
      "\n",
      "n = 2\n",
      "train shape = (1275, 1551)\n",
      "test shape = (340, 1551)\n",
      "best k = 10, best acc = 0.6058823529411764\n",
      "KNeighborsClassifier(algorithm='auto', leaf_size=30, metric='minkowski',\n",
      "           metric_params=None, n_jobs=1, n_neighbors=10, p=2,\n",
      "           weights='uniform')\n",
      "acc: 0.6058823529411764 \n",
      "\n",
      "MultinomialNB(alpha=1.0, class_prior=None, fit_prior=True)\n",
      "acc: 0.5558823529411765 \n",
      "\n",
      "n = 3\n",
      "train shape = (1275, 18802)\n",
      "test shape = (340, 18802)\n",
      "best k = 1, best acc = 0.6147058823529412\n",
      "KNeighborsClassifier(algorithm='auto', leaf_size=30, metric='minkowski',\n",
      "           metric_params=None, n_jobs=1, n_neighbors=1, p=2,\n",
      "           weights='uniform')\n",
      "acc: 0.6147058823529412 \n",
      "\n",
      "MultinomialNB(alpha=1.0, class_prior=None, fit_prior=True)\n",
      "acc: 0.5676470588235294 \n",
      "\n"
     ]
    }
   ],
   "source": [
    "for n in range(1,4):\n",
    "    fit_ngrams(x_train,y_train,x_test,y_test,n)"
   ]
  },
  {
   "cell_type": "code",
   "execution_count": null,
   "metadata": {
    "colab": {
     "base_uri": "https://localhost:8080/",
     "height": 705
    },
    "colab_type": "code",
    "id": "kX9NVmN1KtcC",
    "outputId": "b4d52e82-a7be-4c22-98a4-75f258de4d22"
   },
   "outputs": [],
   "source": [
    "classes = list(set(y_test))\n",
    "test_data = list(zip(x_test,y_test))\n",
    "for label in classes:\n",
    "    label_data = [tupple[0] for tupple in test_data if tupple[1] == label][:10]\n",
    "    plt.plot(label_data)\n",
    "    plt.xlabel(\"Examples\")\n",
    "    plt.show()"
   ]
  }
 ],
 "metadata": {
  "colab": {
   "collapsed_sections": [],
   "include_colab_link": true,
   "name": "Note pitches",
   "provenance": [],
   "version": "0.3.2"
  },
  "kernelspec": {
   "display_name": "Python 3",
   "language": "python",
   "name": "python3"
  },
  "language_info": {
   "codemirror_mode": {
    "name": "ipython",
    "version": 3
   },
   "file_extension": ".py",
   "mimetype": "text/x-python",
   "name": "python",
   "nbconvert_exporter": "python",
   "pygments_lexer": "ipython3",
   "version": "3.6.5"
  }
 },
 "nbformat": 4,
 "nbformat_minor": 1
}
