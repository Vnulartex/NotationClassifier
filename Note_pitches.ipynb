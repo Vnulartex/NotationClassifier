{
 "cells": [
  {
   "cell_type": "code",
   "execution_count": 1,
   "metadata": {
    "colab": {},
    "colab_type": "code",
    "id": "qhXdKqfi80Dt"
   },
   "outputs": [],
   "source": [
    "import itertools\n",
    "import pickle\n",
    "import numpy as np\n",
    "import pandas as pd\n",
    "\n",
    "from music21 import *\n",
    "from matplotlib import pyplot as plt\n",
    "from sklearn import svm, naive_bayes, neighbors\n",
    "from sklearn.feature_extraction.text import CountVectorizer\n",
    "from sklearn.metrics import confusion_matrix\n",
    "from seaborn import heatmap\n",
    "from seaborn.cm import rocket_r\n",
    "\n",
    "import modules.data_loader as loader"
   ]
  },
  {
   "cell_type": "code",
   "execution_count": 2,
   "metadata": {
    "colab": {
     "base_uri": "https://localhost:8080/",
     "height": 87
    },
    "colab_type": "code",
    "id": "RPWbGTiA2g3_",
    "outputId": "2fbf29aa-2f20-4fed-98a4-91796b0a466f"
   },
   "outputs": [],
   "source": [
    "def fit(x_train,y_train, x_test, y_test,classifiers):\n",
    "    for clf in classifiers:\n",
    "        clf.fit(x_train,y_train)\n",
    "        print(clf)\n",
    "        print(f\"acc: {clf.score(x_test,y_test)}\",\"\\n\")"
   ]
  },
  {
   "cell_type": "code",
   "execution_count": 3,
   "metadata": {},
   "outputs": [],
   "source": [
    "def find_k(x_train,y_train, x_test, y_test):\n",
    "    best_acc = 0\n",
    "    k = 0\n",
    "    for i in range(1,30):\n",
    "        k_nn = neighbors.KNeighborsClassifier(n_neighbors=i)\n",
    "        k_nn.fit(x_train, y_train)\n",
    "        acc = k_nn.score(x_test,y_test)\n",
    "        if(acc>best_acc):\n",
    "            best_acc = acc\n",
    "            k = i\n",
    "    print(f\"best k = {k}, best acc = {best_acc}\")\n",
    "    return k"
   ]
  },
  {
   "cell_type": "code",
   "execution_count": 4,
   "metadata": {},
   "outputs": [],
   "source": [
    "def fit_ngrams(x_train,y_train,x_test,y_test,n):    \n",
    "    ngrams_train, ngrams_test = ngrams_vectorize(x_train, x_test,n)\n",
    "    \n",
    "    k = find_k(ngrams_train,y_train,ngrams_test,y_test)\n",
    "    fit(ngrams_train,y_train,ngrams_test,y_test,\n",
    "         [neighbors.KNeighborsClassifier(n_neighbors=k), naive_bayes.MultinomialNB(),svm.LinearSVC(dual=False)])\n",
    "    "
   ]
  },
  {
   "cell_type": "code",
   "execution_count": 5,
   "metadata": {},
   "outputs": [],
   "source": [
    "def ngrams_vectorize(x_train,x_test,n):\n",
    "    print(\"n =\",n)\n",
    "    \n",
    "    ngram_vectorizer = CountVectorizer(token_pattern=\"\\d+\", ngram_range=(1, n))\n",
    "    ngrams_train = ngram_vectorizer.fit_transform(x_train)\n",
    "    ngrams_test = ngram_vectorizer.transform(x_test)\n",
    "\n",
    "    print(\"train shape =\", ngrams_train.shape)\n",
    "    print(\"test shape =\", ngrams_test.shape)\n",
    "    \n",
    "    return ngrams_train, ngrams_test"
   ]
  },
  {
   "cell_type": "code",
   "execution_count": 6,
   "metadata": {},
   "outputs": [],
   "source": [
    "def combine(x1,x2,x1_classes):\n",
    "    result =[]\n",
    "    for a,b in zip (x1,x2):\n",
    "        result.append(x1_classes * b + a)\n",
    "    return result"
   ]
  },
  {
   "cell_type": "code",
   "execution_count": 7,
   "metadata": {},
   "outputs": [],
   "source": [
    "def combine_item(x1,x2,x1_classes):\n",
    "    return x1_classes * x2 + x1"
   ]
  },
  {
   "cell_type": "code",
   "execution_count": 8,
   "metadata": {},
   "outputs": [],
   "source": [
    "def unique_dict(in_list):\n",
    "    dic = dict.fromkeys(in_list)\n",
    "    for i,k in enumerate(dic.keys()):\n",
    "        dic[k]=i\n",
    "    return dic"
   ]
  },
  {
   "cell_type": "code",
   "execution_count": 9,
   "metadata": {},
   "outputs": [],
   "source": [
    "def values_to_labels(in_list,dic):\n",
    "    out_list = [dic[x] for x in in_list]\n",
    "    return out_list        "
   ]
  },
  {
   "cell_type": "code",
   "execution_count": 10,
   "metadata": {},
   "outputs": [],
   "source": [
    "def stringify_items(in_list):\n",
    "    return [str(x) for x in in_list]"
   ]
  },
  {
   "cell_type": "code",
   "execution_count": 11,
   "metadata": {},
   "outputs": [],
   "source": [
    "# Define known chords\n",
    "chords_list = ([0], [0,4,7],[0,3,7],[0,5,7],[0,4,8],[0,3,6],[0,4,7,9],[0,3,7,9],\n",
    "[0,4,7,10],[0,4,7,11],[0,3,7,10],[0,3,6,10],[0,3,6,9],[0,2,4,7,11],\n",
    "[0,2,4,7,10],[0,1,4,7,10],[0,2,3,7,10])\n",
    "\n",
    "# chord_types_list = [tone,major, minor, suspended, augmented, \n",
    "#                     diminished, major_sixth, minor_sixth, \n",
    "#                     dominant_seventh, major_seventh, \n",
    "#                     minor_seventh, half_diminished_seventh, \n",
    "#                     diminished_seventh, major_ninth, \n",
    "#                     dominant_ninth, dominant_minor_ninth, minor_ninth]"
   ]
  },
  {
   "cell_type": "code",
   "execution_count": 12,
   "metadata": {},
   "outputs": [],
   "source": [
    "def find_chord(in_list):\n",
    "    root = in_list[0]\n",
    "    if(len(in_list)==1):\n",
    "        return root\n",
    "    costs = []\n",
    "    for chord in chords_list:\n",
    "        cost = 0\n",
    "        for tone_p, tone_ch in itertools.zip_longest(in_list[1:],chord):\n",
    "            if(tone_p == None or tone_ch == None):\n",
    "                cost += 3\n",
    "            else:\n",
    "                cost+= abs(tone_p - tone_ch)\n",
    "        costs.append(cost)\n",
    "    i = list.index(costs,min(costs))\n",
    "    return combine_item(root,i,12)\n",
    "        "
   ]
  },
  {
   "cell_type": "code",
   "execution_count": 13,
   "metadata": {},
   "outputs": [],
   "source": [
    "def annotate(confusion_mtx):\n",
    "    annot=[]\n",
    "    for i,row in enumerate(confusion_mtx):\n",
    "        row_data = []\n",
    "        row_sum = sum(row)\n",
    "        for j,col in enumerate(row):\n",
    "            percent = (col/sum(row))*100\n",
    "            s=\"\"\n",
    "            colstr=col\n",
    "            if i==j:\n",
    "                colstr = f\"{col}/{row_sum}\"\n",
    "            if col != 0:\n",
    "                s = f\"{percent:.2f}%\\n {colstr}\"\n",
    "            row_data.append(s)\n",
    "        annot.append(row_data)\n",
    "    annot=np.matrix(annot)\n",
    "    return annot\n",
    "    "
   ]
  },
  {
   "cell_type": "markdown",
   "metadata": {},
   "source": [
    "## Loading data"
   ]
  },
  {
   "cell_type": "code",
   "execution_count": 43,
   "metadata": {},
   "outputs": [],
   "source": [
    "%%capture\n",
    "composerNames = [\"debussy\",\"scarlatti\",\"mozart\",\"victoria\",\"beethoven\",\"haydn\",\"bach-js\",\"handel\"]\n",
    "dataset_type = \"chords_t\"\n",
    "x_train_ch, x_test_ch,y_train, y_test = loader.load(dataset_type,composerNames)"
   ]
  },
  {
   "cell_type": "code",
   "execution_count": 44,
   "metadata": {},
   "outputs": [
    {
     "data": {
      "text/html": [
       "<div>\n",
       "<style scoped>\n",
       "    .dataframe tbody tr th:only-of-type {\n",
       "        vertical-align: middle;\n",
       "    }\n",
       "\n",
       "    .dataframe tbody tr th {\n",
       "        vertical-align: top;\n",
       "    }\n",
       "\n",
       "    .dataframe thead th {\n",
       "        text-align: right;\n",
       "    }\n",
       "</style>\n",
       "<table border=\"1\" class=\"dataframe\">\n",
       "  <thead>\n",
       "    <tr style=\"text-align: right;\">\n",
       "      <th></th>\n",
       "      <th>debussy</th>\n",
       "      <th>scarlatti</th>\n",
       "      <th>mozart</th>\n",
       "      <th>victoria</th>\n",
       "      <th>beethoven</th>\n",
       "      <th>haydn</th>\n",
       "      <th>bach-js</th>\n",
       "      <th>handel</th>\n",
       "    </tr>\n",
       "  </thead>\n",
       "  <tbody>\n",
       "    <tr>\n",
       "      <th>count</th>\n",
       "      <td>119.000000</td>\n",
       "      <td>443.000000</td>\n",
       "      <td>423.000000</td>\n",
       "      <td>188.000000</td>\n",
       "      <td>380.000000</td>\n",
       "      <td>402.000000</td>\n",
       "      <td>3443.000000</td>\n",
       "      <td>380.000000</td>\n",
       "    </tr>\n",
       "    <tr>\n",
       "      <th>mean</th>\n",
       "      <td>2598.857143</td>\n",
       "      <td>1144.349887</td>\n",
       "      <td>4366.028369</td>\n",
       "      <td>1286.659574</td>\n",
       "      <td>6752.355263</td>\n",
       "      <td>1840.196517</td>\n",
       "      <td>1329.773744</td>\n",
       "      <td>1635.563158</td>\n",
       "    </tr>\n",
       "    <tr>\n",
       "      <th>std</th>\n",
       "      <td>3130.408684</td>\n",
       "      <td>406.723100</td>\n",
       "      <td>4103.791556</td>\n",
       "      <td>673.145066</td>\n",
       "      <td>6075.072023</td>\n",
       "      <td>1271.186890</td>\n",
       "      <td>1362.116021</td>\n",
       "      <td>1474.055880</td>\n",
       "    </tr>\n",
       "    <tr>\n",
       "      <th>min</th>\n",
       "      <td>369.000000</td>\n",
       "      <td>375.000000</td>\n",
       "      <td>414.000000</td>\n",
       "      <td>451.000000</td>\n",
       "      <td>479.000000</td>\n",
       "      <td>22.000000</td>\n",
       "      <td>35.000000</td>\n",
       "      <td>25.000000</td>\n",
       "    </tr>\n",
       "    <tr>\n",
       "      <th>25%</th>\n",
       "      <td>948.500000</td>\n",
       "      <td>869.500000</td>\n",
       "      <td>1441.500000</td>\n",
       "      <td>767.750000</td>\n",
       "      <td>2219.750000</td>\n",
       "      <td>899.750000</td>\n",
       "      <td>318.000000</td>\n",
       "      <td>611.000000</td>\n",
       "    </tr>\n",
       "    <tr>\n",
       "      <th>50%</th>\n",
       "      <td>1505.000000</td>\n",
       "      <td>1081.000000</td>\n",
       "      <td>3153.000000</td>\n",
       "      <td>1094.000000</td>\n",
       "      <td>4728.000000</td>\n",
       "      <td>1588.000000</td>\n",
       "      <td>813.000000</td>\n",
       "      <td>1198.000000</td>\n",
       "    </tr>\n",
       "    <tr>\n",
       "      <th>75%</th>\n",
       "      <td>2434.000000</td>\n",
       "      <td>1328.500000</td>\n",
       "      <td>5826.500000</td>\n",
       "      <td>1620.750000</td>\n",
       "      <td>9111.000000</td>\n",
       "      <td>2486.250000</td>\n",
       "      <td>1786.500000</td>\n",
       "      <td>2080.000000</td>\n",
       "    </tr>\n",
       "    <tr>\n",
       "      <th>max</th>\n",
       "      <td>18528.000000</td>\n",
       "      <td>3346.000000</td>\n",
       "      <td>26675.000000</td>\n",
       "      <td>3315.000000</td>\n",
       "      <td>29833.000000</td>\n",
       "      <td>6077.000000</td>\n",
       "      <td>7933.000000</td>\n",
       "      <td>6768.000000</td>\n",
       "    </tr>\n",
       "  </tbody>\n",
       "</table>\n",
       "</div>"
      ],
      "text/plain": [
       "            debussy    scarlatti        mozart     victoria     beethoven  \\\n",
       "count    119.000000   443.000000    423.000000   188.000000    380.000000   \n",
       "mean    2598.857143  1144.349887   4366.028369  1286.659574   6752.355263   \n",
       "std     3130.408684   406.723100   4103.791556   673.145066   6075.072023   \n",
       "min      369.000000   375.000000    414.000000   451.000000    479.000000   \n",
       "25%      948.500000   869.500000   1441.500000   767.750000   2219.750000   \n",
       "50%     1505.000000  1081.000000   3153.000000  1094.000000   4728.000000   \n",
       "75%     2434.000000  1328.500000   5826.500000  1620.750000   9111.000000   \n",
       "max    18528.000000  3346.000000  26675.000000  3315.000000  29833.000000   \n",
       "\n",
       "             haydn      bach-js       handel  \n",
       "count   402.000000  3443.000000   380.000000  \n",
       "mean   1840.196517  1329.773744  1635.563158  \n",
       "std    1271.186890  1362.116021  1474.055880  \n",
       "min      22.000000    35.000000    25.000000  \n",
       "25%     899.750000   318.000000   611.000000  \n",
       "50%    1588.000000   813.000000  1198.000000  \n",
       "75%    2486.250000  1786.500000  2080.000000  \n",
       "max    6077.000000  7933.000000  6768.000000  "
      ]
     },
     "execution_count": 44,
     "metadata": {},
     "output_type": "execute_result"
    }
   ],
   "source": [
    "lens =[]\n",
    "for i,comp in enumerate(composerNames):\n",
    "    lens.append([len(example) for example,y in zip(x_train_ch,y_train) if y==i])\n",
    "    \n",
    "df = pd.DataFrame(lens)\n",
    "df=df.transpose()\n",
    "df.columns=composerNames\n",
    "df.describe()"
   ]
  },
  {
   "cell_type": "code",
   "execution_count": 45,
   "metadata": {},
   "outputs": [
    {
     "data": {
      "image/png": "[encoded data removed]",
      "text/plain": [
       "<Figure size 432x288 with 1 Axes>"
      ]
     },
     "metadata": {},
     "output_type": "display_data"
    },
    {
     "data": {
      "image/png": "[encoded data removed]",
      "text/plain": [
       "<Figure size 432x288 with 1 Axes>"
      ]
     },
     "metadata": {},
     "output_type": "display_data"
    },
    {
     "data": {
      "image/png": "[encoded data removed]",
      "text/plain": [
       "<Figure size 432x288 with 1 Axes>"
      ]
     },
     "metadata": {},
     "output_type": "display_data"
    },
    {
     "data": {
      "image/png": "[encoded data removed]",
      "text/plain": [
       "<Figure size 432x288 with 1 Axes>"
      ]
     },
     "metadata": {},
     "output_type": "display_data"
    },
    {
     "data": {
      "image/png": "[encoded data removed]",
      "text/plain": [
       "<Figure size 432x288 with 1 Axes>"
      ]
     },
     "metadata": {},
     "output_type": "display_data"
    },
    {
     "data": {
      "image/png": "[encoded data removed]",
      "text/plain": [
       "<Figure size 432x288 with 1 Axes>"
      ]
     },
     "metadata": {},
     "output_type": "display_data"
    },
    {
     "data": {
      "image/png": "[encoded data removed]",
      "text/plain": [
       "<Figure size 432x288 with 1 Axes>"
      ]
     },
     "metadata": {},
     "output_type": "display_data"
    },
    {
     "data": {
      "image/png": "[encoded data removed]",
      "text/plain": [
       "<Figure size 432x288 with 1 Axes>"
      ]
     },
     "metadata": {},
     "output_type": "display_data"
    }
   ],
   "source": [
    "# the histogram of the data\n",
    "for i,comp in enumerate(composerNames):\n",
    "    plt.hist(lens[i])\n",
    "    plt.xlabel(\"Length of examples\")\n",
    "    plt.ylabel(\"Count\")\n",
    "    plt.title(comp)\n",
    "    plt.show()"
   ]
  },
  {
   "cell_type": "code",
   "execution_count": 46,
   "metadata": {},
   "outputs": [
    {
     "data": {
      "text/html": [
       "<div>\n",
       "<style scoped>\n",
       "    .dataframe tbody tr th:only-of-type {\n",
       "        vertical-align: middle;\n",
       "    }\n",
       "\n",
       "    .dataframe tbody tr th {\n",
       "        vertical-align: top;\n",
       "    }\n",
       "\n",
       "    .dataframe thead th {\n",
       "        text-align: right;\n",
       "    }\n",
       "</style>\n",
       "<table border=\"1\" class=\"dataframe\">\n",
       "  <thead>\n",
       "    <tr style=\"text-align: right;\">\n",
       "      <th></th>\n",
       "      <th>bach-js</th>\n",
       "      <th>beethoven</th>\n",
       "      <th>debussy</th>\n",
       "      <th>handel</th>\n",
       "      <th>haydn</th>\n",
       "      <th>mozart</th>\n",
       "      <th>scarlatti</th>\n",
       "      <th>victoria</th>\n",
       "    </tr>\n",
       "  </thead>\n",
       "  <tbody>\n",
       "    <tr>\n",
       "      <th>train</th>\n",
       "      <td>3443</td>\n",
       "      <td>380</td>\n",
       "      <td>119</td>\n",
       "      <td>380</td>\n",
       "      <td>402</td>\n",
       "      <td>423</td>\n",
       "      <td>443</td>\n",
       "      <td>188</td>\n",
       "    </tr>\n",
       "    <tr>\n",
       "      <th>test</th>\n",
       "      <td>483</td>\n",
       "      <td>61</td>\n",
       "      <td>40</td>\n",
       "      <td>129</td>\n",
       "      <td>145</td>\n",
       "      <td>124</td>\n",
       "      <td>147</td>\n",
       "      <td>61</td>\n",
       "    </tr>\n",
       "  </tbody>\n",
       "</table>\n",
       "</div>"
      ],
      "text/plain": [
       "       bach-js  beethoven  debussy  handel  haydn  mozart  scarlatti  victoria\n",
       "train     3443        380      119     380    402     423        443       188\n",
       "test       483         61       40     129    145     124        147        61"
      ]
     },
     "execution_count": 46,
     "metadata": {},
     "output_type": "execute_result"
    }
   ],
   "source": [
    "counts = [loader.get_data_counts(y_train,composerNames),loader.get_data_counts(y_test,composerNames)]\n",
    "pd.DataFrame(counts,index=[\"train\",\"test\"])"
   ]
  },
  {
   "cell_type": "code",
   "execution_count": 47,
   "metadata": {},
   "outputs": [],
   "source": [
    "x_train = [str([chord[0] for chord in example ]) for example in x_train_ch]\n",
    "x_test = [str([chord[0] for chord in example]) for example in x_test_ch]"
   ]
  },
  {
   "cell_type": "code",
   "execution_count": 48,
   "metadata": {
    "scrolled": true
   },
   "outputs": [],
   "source": [
    "# x_train_d, x_test_d,y_train, y_test = loader.load(\"durations\",composerNames)"
   ]
  },
  {
   "cell_type": "code",
   "execution_count": 49,
   "metadata": {},
   "outputs": [],
   "source": [
    "# x_train = [str([find_chord(chord) for chord in example ]) for example in x_train_ch]\n",
    "# x_test = [str([find_chord(chord) for chord in example])for example in x_test_ch]"
   ]
  },
  {
   "cell_type": "code",
   "execution_count": 50,
   "metadata": {},
   "outputs": [],
   "source": [
    "# pitches_seq = list(itertools.chain.from_iterable(x_train_ch+x_test_ch))\n",
    "# pitches_dict = unique_dict(pitches_seq)\n",
    "\n",
    "# x_train_ch = [values_to_labels(example,pitches_dict) for example in x_train_ch]\n",
    "# x_test_ch = [values_to_labels(example,pitches_dict) for example in x_test_ch]\n",
    "\n",
    "# durations_seq = list(itertools.chain.from_iterable(x_train_d+x_test_d))\n",
    "# durations_dict = unique_dict(durations_seq)\n",
    "\n",
    "# x_train_d = [values_to_labels(example,durations_dict) for example in x_train_d]\n",
    "# x_test_d = [values_to_labels(example,durations_dict) for example in x_test_d]"
   ]
  },
  {
   "cell_type": "code",
   "execution_count": 51,
   "metadata": {},
   "outputs": [],
   "source": [
    "# x_train = list(map(str, combine(x_train_ch,x_train_d,len(pitches_dict))))\n",
    "# x_test = list(map(str, combine(x_test_ch,x_test_d,len(pitches_dict))))"
   ]
  },
  {
   "cell_type": "markdown",
   "metadata": {},
   "source": [
    "# Benchmarking models"
   ]
  },
  {
   "cell_type": "code",
   "execution_count": 52,
   "metadata": {},
   "outputs": [
    {
     "name": "stdout",
     "output_type": "stream",
     "text": [
      "n = 1\n",
      "train shape = (5778, 12)\n",
      "test shape = (1190, 12)\n",
      "best k = 1, best acc = 0.6546218487394958\n",
      "KNeighborsClassifier(algorithm='auto', leaf_size=30, metric='minkowski',\n",
      "           metric_params=None, n_jobs=1, n_neighbors=1, p=2,\n",
      "           weights='uniform')\n",
      "acc: 0.6546218487394958 \n",
      "\n",
      "MultinomialNB(alpha=1.0, class_prior=None, fit_prior=True)\n",
      "acc: 0.3840336134453782 \n",
      "\n",
      "LinearSVC(C=1.0, class_weight=None, dual=False, fit_intercept=True,\n",
      "     intercept_scaling=1, loss='squared_hinge', max_iter=1000,\n",
      "     multi_class='ovr', penalty='l2', random_state=None, tol=0.0001,\n",
      "     verbose=0)\n",
      "acc: 0.48403361344537815 \n",
      "\n",
      "n = 2\n",
      "train shape = (5778, 156)\n",
      "test shape = (1190, 156)\n",
      "best k = 1, best acc = 0.7218487394957983\n",
      "KNeighborsClassifier(algorithm='auto', leaf_size=30, metric='minkowski',\n",
      "           metric_params=None, n_jobs=1, n_neighbors=1, p=2,\n",
      "           weights='uniform')\n",
      "acc: 0.7218487394957983 \n",
      "\n",
      "MultinomialNB(alpha=1.0, class_prior=None, fit_prior=True)\n",
      "acc: 0.48403361344537815 \n",
      "\n",
      "LinearSVC(C=1.0, class_weight=None, dual=False, fit_intercept=True,\n",
      "     intercept_scaling=1, loss='squared_hinge', max_iter=1000,\n",
      "     multi_class='ovr', penalty='l2', random_state=None, tol=0.0001,\n",
      "     verbose=0)\n",
      "acc: 0.6705882352941176 \n",
      "\n",
      "n = 3\n",
      "train shape = (5778, 1884)\n",
      "test shape = (1190, 1884)\n",
      "best k = 1, best acc = 0.7277310924369748\n",
      "KNeighborsClassifier(algorithm='auto', leaf_size=30, metric='minkowski',\n",
      "           metric_params=None, n_jobs=1, n_neighbors=1, p=2,\n",
      "           weights='uniform')\n",
      "acc: 0.7277310924369748 \n",
      "\n",
      "MultinomialNB(alpha=1.0, class_prior=None, fit_prior=True)\n",
      "acc: 0.5403361344537815 \n",
      "\n",
      "LinearSVC(C=1.0, class_weight=None, dual=False, fit_intercept=True,\n",
      "     intercept_scaling=1, loss='squared_hinge', max_iter=1000,\n",
      "     multi_class='ovr', penalty='l2', random_state=None, tol=0.0001,\n",
      "     verbose=0)\n",
      "acc: 0.7428571428571429 \n",
      "\n",
      "n = 4\n",
      "train shape = (5778, 22609)\n",
      "test shape = (1190, 22609)\n",
      "best k = 1, best acc = 0.7252100840336134\n",
      "KNeighborsClassifier(algorithm='auto', leaf_size=30, metric='minkowski',\n",
      "           metric_params=None, n_jobs=1, n_neighbors=1, p=2,\n",
      "           weights='uniform')\n",
      "acc: 0.7252100840336134 \n",
      "\n",
      "MultinomialNB(alpha=1.0, class_prior=None, fit_prior=True)\n",
      "acc: 0.5865546218487395 \n",
      "\n",
      "LinearSVC(C=1.0, class_weight=None, dual=False, fit_intercept=True,\n",
      "     intercept_scaling=1, loss='squared_hinge', max_iter=1000,\n",
      "     multi_class='ovr', penalty='l2', random_state=None, tol=0.0001,\n",
      "     verbose=0)\n",
      "acc: 0.7873949579831933 \n",
      "\n"
     ]
    }
   ],
   "source": [
    "x_train,y_train = loader.shuffle_data(x_train,y_train)\n",
    "x_test,y_test = loader.shuffle_data(x_test,y_test)\n",
    "\n",
    "for n in range(1,5):\n",
    "    fit_ngrams(x_train,y_train,x_test,y_test,n)"
   ]
  },
  {
   "cell_type": "markdown",
   "metadata": {},
   "source": [
    "# Training a model"
   ]
  },
  {
   "cell_type": "code",
   "execution_count": 53,
   "metadata": {},
   "outputs": [
    {
     "name": "stdout",
     "output_type": "stream",
     "text": [
      "train shape = (5778, 22609)\n",
      "test shape = (1190, 22609)\n",
      "LinearSVC(C=1.0, class_weight=None, dual=False, fit_intercept=True,\n",
      "     intercept_scaling=1, loss='squared_hinge', max_iter=1000,\n",
      "     multi_class='ovr', penalty='l2', random_state=None, tol=0.0001,\n",
      "     verbose=0)\n",
      "acc: 0.7873949579831933 \n",
      "\n"
     ]
    }
   ],
   "source": [
    "ngram_vectorizer = CountVectorizer(token_pattern=\"\\d+\", ngram_range=(1, 4))\n",
    "ngrams_train = ngram_vectorizer.fit_transform(x_train)\n",
    "ngrams_test = ngram_vectorizer.transform(x_test)\n",
    "\n",
    "print(\"train shape =\", ngrams_train.shape)\n",
    "print(\"test shape =\", ngrams_test.shape)\n",
    "\n",
    "clf = svm.LinearSVC(dual=False)\n",
    "fit(ngrams_train, y_train,ngrams_test,y_test,[clf])\n"
   ]
  },
  {
   "cell_type": "markdown",
   "metadata": {},
   "source": [
    "# Plotting a confusion matrix"
   ]
  },
  {
   "cell_type": "code",
   "execution_count": 54,
   "metadata": {},
   "outputs": [
    {
     "data": {
      "text/plain": [
       "Text(69,0.5,'Actual')"
      ]
     },
     "execution_count": 54,
     "metadata": {},
     "output_type": "execute_result"
    },
    {
     "data": {
      "image/png": "[encoded data removed]",
      "text/plain": [
       "<Figure size 720x720 with 2 Axes>"
      ]
     },
     "metadata": {},
     "output_type": "display_data"
    }
   ],
   "source": [
    "# Predict the values from the validation dataset\n",
    "y_pred = clf.predict(ngrams_test)\n",
    "# compute the confusion matrix\n",
    "confusion_mtx = confusion_matrix(y_test, y_pred)\n",
    "annot = annotate(confusion_mtx)\n",
    "# plot the confusion matrix\n",
    "fig, ax = plt.subplots(figsize=(10,10))\n",
    "ax = heatmap(data=confusion_mtx,annot=annot,square=True,\n",
    "        xticklabels=composerNames, yticklabels=composerNames,fmt=\"\",cmap=rocket_r)\n",
    "\n",
    "ax.set_xlabel(\"Predicted\")\n",
    "ax.set_ylabel(\"Actual\")"
   ]
  },
  {
   "cell_type": "markdown",
   "metadata": {},
   "source": [
    "# Saving a model"
   ]
  },
  {
   "cell_type": "code",
   "execution_count": 55,
   "metadata": {},
   "outputs": [],
   "source": [
    "clfobj = loader.Classifier(clf,composerNames,ngram_vectorizer, \"chords_t\",loader.get_root)"
   ]
  },
  {
   "cell_type": "code",
   "execution_count": 56,
   "metadata": {},
   "outputs": [
    {
     "ename": "FileNotFoundError",
     "evalue": "[Errno 2] No such file or directory: 'models/svm_4grams.dat'",
     "output_type": "error",
     "traceback": [
      "\u001b[1;31m---------------------------------------------------------------------------\u001b[0m",
      "\u001b[1;31mFileNotFoundError\u001b[0m                         Traceback (most recent call last)",
      "\u001b[1;32m<ipython-input-56-54434d472534>\u001b[0m in \u001b[0;36m<module>\u001b[1;34m()\u001b[0m\n\u001b[1;32m----> 1\u001b[1;33m \u001b[1;32mwith\u001b[0m \u001b[0mopen\u001b[0m\u001b[1;33m(\u001b[0m\u001b[1;34m\"models/svm_4grams.dat\"\u001b[0m\u001b[1;33m,\u001b[0m\u001b[1;34m\"wb\"\u001b[0m\u001b[1;33m)\u001b[0m \u001b[1;32mas\u001b[0m \u001b[0mf\u001b[0m\u001b[1;33m:\u001b[0m\u001b[1;33m\u001b[0m\u001b[0m\n\u001b[0m\u001b[0;32m      2\u001b[0m     \u001b[0mpickle\u001b[0m\u001b[1;33m.\u001b[0m\u001b[0mdump\u001b[0m\u001b[1;33m(\u001b[0m\u001b[0mclfobj\u001b[0m\u001b[1;33m,\u001b[0m\u001b[0mf\u001b[0m\u001b[1;33m)\u001b[0m\u001b[1;33m\u001b[0m\u001b[0m\n",
      "\u001b[1;31mFileNotFoundError\u001b[0m: [Errno 2] No such file or directory: 'models/svm_4grams.dat'"
     ]
    }
   ],
   "source": [
    "with open(\"models/svm_4grams.dat\",\"wb\") as f:\n",
    "    pickle.dump(clfobj,f)"
   ]
  }
 ],
 "metadata": {
  "colab": {
   "collapsed_sections": [],
   "include_colab_link": true,
   "name": "Note pitches",
   "provenance": [],
   "version": "0.3.2"
  },
  "kernelspec": {
   "display_name": "Python 3",
   "language": "python",
   "name": "python3"
  },
  "language_info": {
   "codemirror_mode": {
    "name": "ipython",
    "version": 3
   },
   "file_extension": ".py",
   "mimetype": "text/x-python",
   "name": "python",
   "nbconvert_exporter": "python",
   "pygments_lexer": "ipython3",
   "version": "3.6.5"
  }
 },
 "nbformat": 4,
 "nbformat_minor": 1
}
