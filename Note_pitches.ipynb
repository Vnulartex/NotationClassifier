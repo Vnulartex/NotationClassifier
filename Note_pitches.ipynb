{
 "cells": [
  {
   "cell_type": "code",
   "execution_count": 1,
   "metadata": {
    "colab": {},
    "colab_type": "code",
    "collapsed": true,
    "id": "qhXdKqfi80Dt"
   },
   "outputs": [],
   "source": [
    "from music21 import *\n",
    "from matplotlib import pyplot as plt\n",
    "from sklearn import svm, naive_bayes, neighbors\n",
    "import numpy as np\n",
    "import data_loader as loader"
   ]
  },
  {
   "cell_type": "code",
   "execution_count": 2,
   "metadata": {
    "collapsed": true,
    "scrolled": true
   },
   "outputs": [],
   "source": [
    "%%capture\n",
    "composerNames = [\"debussy\",\"tchaikovsky\",\"mozart\",\"victoria\",\"beethoven\"]\n",
    "#count = min(loader.get_data_counts(composerNames))\n",
    "x_train, x_test,y_train, y_test = loader.load(\"chords_t\",composerNames)\n"
   ]
  },
  {
   "cell_type": "code",
   "execution_count": 3,
   "metadata": {},
   "outputs": [
    {
     "name": "stdout",
     "output_type": "stream",
     "text": [
      "train {'debussy': 119, 'tchaikovsky': 165, 'mozart': 423, 'victoria': 188, 'beethoven': 380}\n",
      "test {'debussy': 40, 'tchaikovsky': 54, 'mozart': 124, 'victoria': 61, 'beethoven': 61}\n"
     ]
    }
   ],
   "source": [
    "print(\"train\",loader.get_data_counts(y=y_train,composer_names=composerNames))\n",
    "print(\"test\",loader.get_data_counts(y=y_test,composer_names=composerNames))"
   ]
  },
  {
   "cell_type": "code",
   "execution_count": null,
   "metadata": {
    "colab": {
     "base_uri": "https://localhost:8080/",
     "height": 705
    },
    "colab_type": "code",
    "id": "kX9NVmN1KtcC",
    "outputId": "b4d52e82-a7be-4c22-98a4-75f258de4d22",
    "scrolled": true
   },
   "outputs": [],
   "source": [
    "classes = list(set(y_test))\n",
    "test_data = list(zip(x_test,y_test))\n",
    "for label in classes:\n",
    "    label_data = [tupple[0] for tupple in test_data if tupple[1] == label][:10]\n",
    "    plt.plot(label_data)\n",
    "    plt.xlabel(\"Examples\")\n",
    "    plt.show()"
   ]
  },
  {
   "cell_type": "code",
   "execution_count": 14,
   "metadata": {
    "colab": {
     "base_uri": "https://localhost:8080/",
     "height": 87
    },
    "colab_type": "code",
    "id": "RPWbGTiA2g3_",
    "outputId": "2fbf29aa-2f20-4fed-98a4-91796b0a466f"
   },
   "outputs": [
    {
     "name": "stdout",
     "output_type": "stream",
     "text": [
      "SVC(C=1.0, cache_size=200, class_weight=None, coef0=0.0,\n",
      "  decision_function_shape='ovr', degree=3, gamma='auto', kernel='poly',\n",
      "  max_iter=-1, probability=False, random_state=None, shrinking=True,\n",
      "  tol=0.001, verbose=False)\n",
      "acc: 0.4147058823529412 \n",
      "\n",
      "KNeighborsClassifier(algorithm='auto', leaf_size=30, metric='minkowski',\n",
      "           metric_params=None, n_jobs=1, n_neighbors=50, p=2,\n",
      "           weights='uniform')\n",
      "acc: 0.4176470588235294 \n",
      "\n",
      "MultinomialNB(alpha=1.0, class_prior=None, fit_prior=True)\n",
      "acc: 0.40588235294117647 \n",
      "\n"
     ]
    }
   ],
   "source": [
    "classifiers = [svm.SVC(kernel=\"poly\"),\n",
    "               neighbors.KNeighborsClassifier(n_neighbors=50),\n",
    "               naive_bayes.MultinomialNB()]\n",
    "\n",
    "for clf in classifiers:\n",
    "    clf.fit(x_train,y_train)\n",
    "    print(clf)\n",
    "    print(f\"acc: {clf.score(x_test,y_test)}\",\"\\n\")"
   ]
  },
  {
   "cell_type": "code",
   "execution_count": 15,
   "metadata": {},
   "outputs": [
    {
     "name": "stdout",
     "output_type": "stream",
     "text": [
      "k = 1, acc = 0.21764705882352942\n",
      "k = 2, acc = 0.18235294117647058\n",
      "k = 3, acc = 0.2\n",
      "k = 4, acc = 0.2323529411764706\n",
      "k = 5, acc = 0.23823529411764705\n",
      "k = 6, acc = 0.23823529411764705\n",
      "k = 7, acc = 0.2529411764705882\n",
      "k = 8, acc = 0.2823529411764706\n",
      "k = 9, acc = 0.3058823529411765\n",
      "k = 10, acc = 0.3029411764705882\n",
      "k = 11, acc = 0.3088235294117647\n",
      "k = 12, acc = 0.36176470588235293\n",
      "k = 13, acc = 0.36176470588235293\n",
      "k = 14, acc = 0.3558823529411765\n",
      "k = 15, acc = 0.3735294117647059\n",
      "k = 16, acc = 0.37941176470588234\n",
      "k = 17, acc = 0.38235294117647056\n",
      "k = 18, acc = 0.38823529411764707\n",
      "k = 19, acc = 0.38235294117647056\n",
      "k = 20, acc = 0.3941176470588235\n",
      "k = 21, acc = 0.40588235294117647\n",
      "k = 22, acc = 0.3941176470588235\n",
      "k = 23, acc = 0.40294117647058825\n",
      "k = 24, acc = 0.4323529411764706\n",
      "k = 25, acc = 0.4264705882352941\n",
      "k = 26, acc = 0.43529411764705883\n",
      "k = 27, acc = 0.4411764705882353\n",
      "k = 28, acc = 0.43823529411764706\n",
      "k = 29, acc = 0.4441176470588235\n",
      "k = 30, acc = 0.43823529411764706\n",
      "k = 31, acc = 0.43823529411764706\n",
      "k = 32, acc = 0.4411764705882353\n",
      "k = 33, acc = 0.45294117647058824\n",
      "k = 34, acc = 0.45\n",
      "k = 35, acc = 0.43823529411764706\n",
      "k = 36, acc = 0.43823529411764706\n",
      "k = 37, acc = 0.43529411764705883\n",
      "k = 38, acc = 0.4323529411764706\n",
      "k = 39, acc = 0.4264705882352941\n",
      "k = 40, acc = 0.4323529411764706\n",
      "k = 41, acc = 0.4294117647058823\n",
      "k = 42, acc = 0.4235294117647059\n",
      "k = 43, acc = 0.4323529411764706\n",
      "k = 44, acc = 0.4323529411764706\n",
      "k = 45, acc = 0.4235294117647059\n",
      "k = 46, acc = 0.43529411764705883\n",
      "k = 47, acc = 0.4411764705882353\n",
      "k = 48, acc = 0.43529411764705883\n",
      "k = 49, acc = 0.4264705882352941\n",
      "k = 50, acc = 0.4176470588235294\n",
      "k = 51, acc = 0.4117647058823529\n",
      "k = 52, acc = 0.4235294117647059\n",
      "k = 53, acc = 0.4235294117647059\n",
      "k = 54, acc = 0.4294117647058823\n",
      "k = 55, acc = 0.4323529411764706\n",
      "k = 56, acc = 0.4411764705882353\n",
      "k = 57, acc = 0.4294117647058823\n",
      "k = 58, acc = 0.4294117647058823\n",
      "k = 59, acc = 0.4235294117647059\n"
     ]
    }
   ],
   "source": [
    "for i in range(1,60):\n",
    "    k_nn = neighbors.KNeighborsClassifier(n_neighbors=i)\n",
    "    k_nn.fit(x_train, y_train)\n",
    "    print(f\"k = {i}, acc = {k_nn.score(x_test,y_test)}\")"
   ]
  }
 ],
 "metadata": {
  "colab": {
   "collapsed_sections": [],
   "include_colab_link": true,
   "name": "Note pitches",
   "provenance": [],
   "version": "0.3.2"
  },
  "kernelspec": {
   "display_name": "Python 3",
   "language": "python",
   "name": "python3"
  },
  "language_info": {
   "codemirror_mode": {
    "name": "ipython",
    "version": 3
   },
   "file_extension": ".py",
   "mimetype": "text/x-python",
   "name": "python",
   "nbconvert_exporter": "python",
   "pygments_lexer": "ipython3",
   "version": "3.6.2"
  }
 },
 "nbformat": 4,
 "nbformat_minor": 1
}
